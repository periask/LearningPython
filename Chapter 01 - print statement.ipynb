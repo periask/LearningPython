{
 "cells": [
  {
   "cell_type": "markdown",
   "id": "f3f3373f",
   "metadata": {},
   "source": [
    "# print statement\n",
    "When we start a new programming language, the first thing that we learn is to print \"Hello, World!\". It gives us the confidence that we have a good start :).\n",
    "\n",
    "Printing the information on the terminal is one of the ways to visually see what is going on in the execution. It is so simple function yet one of the most powerful for debugging any program."
   ]
  },
  {
   "cell_type": "markdown",
   "id": "42679ea4",
   "metadata": {},
   "source": [
    "## Syntax\n",
    "<font size=4.5 style=\"font-weight: bold;\">print(<font style=\"font-weight: lighter; font-style: italic;\">*objects, **sep**=' ', **end**='\\n', **file**=None, **flush**=False</font>)</font>\n",
    "\n",
    "You can provide one or more keyword arguments to this print function and you have to specify the `keyword=value` format. All non-keyword arguments are considered as `objects`,  converted to strings, and then written on the terminal or into a stream. All the `*objects` should be placed before any keyword arguments. So, they are called positional arguments.\n",
    "\n"
   ]
  },
  {
   "cell_type": "code",
   "execution_count": 9,
   "id": "6316301b",
   "metadata": {},
   "outputs": [
    {
     "name": "stdout",
     "output_type": "stream",
     "text": [
      "Python is fun.\n",
      "100\n",
      "3.14159\n",
      "True\n",
      "(10+37j)\n",
      "[1, 2, 3]-[4]\n"
     ]
    }
   ],
   "source": [
    "# All the values are considered as object of that data class. \n",
    "print(\"Python is fun.\") # String Class\n",
    "print(100)              # Integer Class\n",
    "print(3.14159)          # Float Class\n",
    "print(True)             # Boolean Class. Please note it is not \"True\" (String class)\n",
    "print(10+37j)           # Complex Number Class"
   ]
  },
  {
   "cell_type": "code",
   "execution_count": 7,
   "id": "5ce382ba",
   "metadata": {},
   "outputs": [
    {
     "name": "stdout",
     "output_type": "stream",
     "text": [
      "Python is fun.\n",
      "100\n",
      "3.14159\n",
      "True\n",
      "(10+37j)\n"
     ]
    }
   ],
   "source": [
    "# All the variables are considered as object of that data class too.\n",
    "my_first_string_object  = \"Python is fun.\" # String Class\n",
    "my_first_integer_object = 100              # Integer Class\n",
    "my_first_float_object   = 3.14159          # Float Class\n",
    "my_first_bollean_object = True             # Boolean Class\n",
    "my_first_complex_object = 10+37j           # Complex Number Class\n",
    "\n",
    "print(my_first_string_object) \n",
    "print(my_first_integer_object)              \n",
    "print(my_first_float_object)          \n",
    "print(my_first_bollean_object)             \n",
    "print(my_first_complex_object)           "
   ]
  },
  {
   "cell_type": "markdown",
   "id": "fa27e4c8",
   "metadata": {},
   "source": [
    "### sep\n",
    "The print() function separates the positional arguments `*objects` using the string value given in the keyword argument “sep”. If you do not specify this argument, the default vaule ` ` (whitespace) will be used as the separator. "
   ]
  },
  {
   "cell_type": "code",
   "execution_count": 15,
   "id": "3e21b54f",
   "metadata": {
    "scrolled": true
   },
   "outputs": [
    {
     "name": "stdout",
     "output_type": "stream",
     "text": [
      "1 Python 3.11\n"
     ]
    }
   ],
   "source": [
    "# print without the sep argument\n",
    "print(1, \"Python\", 3.11)"
   ]
  },
  {
   "cell_type": "code",
   "execution_count": 16,
   "id": "5fd00092",
   "metadata": {},
   "outputs": [
    {
     "name": "stdout",
     "output_type": "stream",
     "text": [
      "1>>>Python>>>3.11\n"
     ]
    }
   ],
   "source": [
    "# print with the sep argument\n",
    "print(1, \"Python\", 3.11, sep='>>>')"
   ]
  },
  {
   "cell_type": "markdown",
   "id": "f2126a2d",
   "metadata": {},
   "source": [
    "### end\n",
    "The end keyword holds the string that is to be printed at the end of the execution of the print() function. By default, it is set to `\\n` (new line), which breaks the current line and brings the cursor to starting of the next new line."
   ]
  },
  {
   "cell_type": "code",
   "execution_count": 17,
   "id": "126d563f",
   "metadata": {},
   "outputs": [
    {
     "name": "stdout",
     "output_type": "stream",
     "text": [
      "1\n",
      "Python\n",
      "3.11\n"
     ]
    }
   ],
   "source": [
    "# print without the end argument\n",
    "print(1)\n",
    "print(\"Python\")\n",
    "print(3.11)"
   ]
  },
  {
   "cell_type": "code",
   "execution_count": 18,
   "id": "7932f151",
   "metadata": {},
   "outputs": [
    {
     "name": "stdout",
     "output_type": "stream",
     "text": [
      "1<=>Python<<>>3.11~~~~"
     ]
    }
   ],
   "source": [
    "# print with the end argument\n",
    "print(1, end='<=>')\n",
    "print(\"Python\", end='<<>>')\n",
    "print(3.11, end='~~~~')"
   ]
  },
  {
   "cell_type": "markdown",
   "id": "4dcec48c",
   "metadata": {},
   "source": [
    "\n",
    "### file\n",
    "The file argument is a stream or file-like object. If it is set to `None` (Default vaule), the `sys.stdout` will be used and the output will be displayed on the terminal."
   ]
  },
  {
   "cell_type": "code",
   "execution_count": 19,
   "id": "06b6a16b",
   "metadata": {},
   "outputs": [
    {
     "name": "stdout",
     "output_type": "stream",
     "text": [
      "Python is fun.\n"
     ]
    }
   ],
   "source": [
    "# Default value for file\n",
    "print(\"Python is fun.\")"
   ]
  },
  {
   "cell_type": "code",
   "execution_count": 20,
   "id": "d116d64d",
   "metadata": {},
   "outputs": [
    {
     "name": "stdout",
     "output_type": "stream",
     "text": [
      "Python is fun.\n"
     ]
    }
   ],
   "source": [
    "# Set None to file argument\n",
    "print(\"Python is fun.\", file=None)"
   ]
  },
  {
   "cell_type": "code",
   "execution_count": 23,
   "id": "de7257aa",
   "metadata": {},
   "outputs": [],
   "source": [
    "# Create a file object and set it to file argument\n",
    "fp = open(\"file_for_print.txt\", \"w\")\n",
    "print(\"Python is fun.\", file=fp)\n",
    "fp.close()"
   ]
  },
  {
   "cell_type": "markdown",
   "id": "2dcb2397",
   "metadata": {},
   "source": [
    "There is a file created in the current working directory in the name `file_for_print.txt` and it has the string from the `print` statement.\n",
    "```\n",
    "❯ cat file_for_print.txt\n",
    "Python is fun.\n",
    "```"
   ]
  },
  {
   "cell_type": "markdown",
   "id": "d9c041f6",
   "metadata": {},
   "source": [
    "### flush\n",
    "All write operation on I/O are buffered, meaning the write happens as chunk. The print will not write on the terminal or the file-like objects till the buffer is filled or the program exits.\n",
    "\n",
    "Please run these 2 script files to see the difference between with and without flush.\n",
    "> python3 print_no_flush.py\n",
    "\n",
    "> python3 print_with_flush.py"
   ]
  },
  {
   "cell_type": "markdown",
   "id": "299fb0f9",
   "metadata": {},
   "source": [
    "**Note:** As sep , end , flush , file are keyword arguments their position does not change the result of code. "
   ]
  }
 ],
 "metadata": {
  "kernelspec": {
   "display_name": "Python 3 (ipykernel)",
   "language": "python",
   "name": "python3"
  },
  "language_info": {
   "codemirror_mode": {
    "name": "ipython",
    "version": 3
   },
   "file_extension": ".py",
   "mimetype": "text/x-python",
   "name": "python",
   "nbconvert_exporter": "python",
   "pygments_lexer": "ipython3",
   "version": "3.9.6"
  }
 },
 "nbformat": 4,
 "nbformat_minor": 5
}
