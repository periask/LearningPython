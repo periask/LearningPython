{
 "cells": [
  {
   "cell_type": "markdown",
   "id": "c07879fe",
   "metadata": {},
   "source": [
    "# Commenting\n",
    "Commenting is placing an easily human-readable description of what the code is doing. A good comment makes anyone to understand the purpose of the program or the piece of code without actually looking at the source code. There are 2 ways of commenting,\n"
   ]
  },
  {
   "cell_type": "markdown",
   "id": "af77e680",
   "metadata": {},
   "source": [
    "## Single-line comment\n",
    "The single-line comment starts with `#` till the end of the line. This `#` can be at the start of the line or anywhere in-between. "
   ]
  },
  {
   "cell_type": "code",
   "execution_count": 1,
   "id": "c27d8a32",
   "metadata": {},
   "outputs": [],
   "source": [
    "# This is a single-line comment\n",
    "# We can have consecutive single-line comments\n",
    "# for multi-line comments"
   ]
  },
  {
   "cell_type": "markdown",
   "id": "01a0a898",
   "metadata": {},
   "source": [
    "All unassigned literal values are considered as comments in the script because they will not be stored or processed anywhere."
   ]
  },
  {
   "cell_type": "code",
   "execution_count": 5,
   "id": "10765199",
   "metadata": {},
   "outputs": [
    {
     "name": "stdout",
     "output_type": "stream",
     "text": [
      "\n"
     ]
    }
   ],
   "source": [
    "100\n",
    "1.34\n",
    "True\n",
    "\"It is also a comment :)\"\n",
    "'This one too... single quotes'\n",
    "\n",
    "# Adding this empty print() because jupyter notebook prints the last literal value on the terminal. \n",
    "# same as python terminal.\n",
    "print()"
   ]
  },
  {
   "cell_type": "markdown",
   "id": "63b41dcb",
   "metadata": {},
   "source": [
    "## block comment\n",
    "We do not have a specific format for block comments. So, we use multi-line literal string for the block commenting. <br> \n",
    "Note: We will learn about multi-line literal string later.\n"
   ]
  },
  {
   "cell_type": "code",
   "execution_count": 7,
   "id": "f8987597",
   "metadata": {},
   "outputs": [
    {
     "name": "stdout",
     "output_type": "stream",
     "text": [
      "\n"
     ]
    }
   ],
   "source": [
    "\"\"\" Python is an easy to learn, powerful programming language.\n",
    "It has efficient high-level data structures and a simple but \n",
    "effective approach to object-oriented programming. Python’s \n",
    "elegant syntax and dynamic typing, together with its interpreted \n",
    "nature, make it an ideal language for scripting and rapid \n",
    "application development in many areas on most platforms.\n",
    "\"\"\"\n",
    "\n",
    "# Adding this empty print() because jupyter notebook prints the last literal value on the terminal. \n",
    "# same as python terminal.\n",
    "print()"
   ]
  }
 ],
 "metadata": {
  "kernelspec": {
   "display_name": "Python 3 (ipykernel)",
   "language": "python",
   "name": "python3"
  },
  "language_info": {
   "codemirror_mode": {
    "name": "ipython",
    "version": 3
   },
   "file_extension": ".py",
   "mimetype": "text/x-python",
   "name": "python",
   "nbconvert_exporter": "python",
   "pygments_lexer": "ipython3",
   "version": "3.9.6"
  }
 },
 "nbformat": 4,
 "nbformat_minor": 5
}
